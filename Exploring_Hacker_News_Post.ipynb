{
 "cells": [
  {
   "cell_type": "markdown",
   "metadata": {},
   "source": [
    "# Exploring Hacker News Posts\n",
    "\n",
    "    In this project, we'll work with a data set of submissions to popular technology site Hacker News.\n",
    "    Hacker News is a site started by the startup incubator Y Combinator, where user-submitted stories (known as \"posts\") are voted and commented upon, similar to reddit. Hacker News is extremely popular in technology and startup circles, and posts that make it to the top of Hacker News' listings can get hundreds of thousands of visitors as a result.\n",
    "    "
   ]
  },
  {
   "cell_type": "markdown",
   "metadata": {},
   "source": [
    "# Aim of the project \n",
    "In this project,we are speicfically interested in posts whose titles begin with either Ask HN or Show HN.Users submit Ask HN posts to ask the Hacker News community a specific question.\n",
    "\n",
    "Likewise, users submit Show HN posts to show the Hacker News community a project, product, or just generally something interesting.\n",
    "\n",
    "Our goal is to compare these two types of post to determine the following?\n",
    "1. Do Ask HN or Show HN receive more comments on average?\n",
    "2. Do posts created at a certain time receive more comments on average?\n"
   ]
  },
  {
   "cell_type": "markdown",
   "metadata": {},
   "source": [
    "## Opening and Exploring  the dataset\n",
    "You can find the data set [here](https://www.kaggle.com/hacker-news/hacker-news-posts), but note that it has been reduced from almost 300,000 rows to approximately 20,000 rows by removing all submissions that did not receive any comments, and then randomly sampling from the remaining submissions. \n",
    "\n",
    "Let's start by Opening  the dataset and explore the same by importing the libraries we need and reading the data set into a list of lists."
   ]
  },
  {
   "cell_type": "code",
   "execution_count": 13,
   "metadata": {},
   "outputs": [],
   "source": [
    "#open the hacker_news.csv\n",
    "from csv import reader\n",
    "opened_file = open(\"hacker_news.csv\")\n",
    "read_file = reader(opened_file)\n",
    "hn = list(read_file)\n",
    "hn_header=hn[0]#holds the header of the dataset\n",
    "#Remove the header  the store the rest in hn\n",
    "hn = hn[1:]\n"
   ]
  },
  {
   "cell_type": "markdown",
   "metadata": {},
   "source": [
    "To make them easier for you to explore, we created a function named explore_data() that you can repeatedly use to print rows in a readable way."
   ]
  },
  {
   "cell_type": "code",
   "execution_count": 14,
   "metadata": {},
   "outputs": [],
   "source": [
    "def explore_data(dataset, start, end, rows_and_columns=False):\n",
    "    dataset_slice = dataset[start:end]    \n",
    "    for row in dataset_slice:\n",
    "        print(row)\n",
    "        print('\\n') # adds a new (empty) line after each row\n",
    "\n",
    "    if rows_and_columns:\n",
    "        print('Number of rows:', len(dataset))\n",
    "        print('Number of columns:', len(dataset[0]))\n",
    "        \n"
   ]
  },
  {
   "cell_type": "code",
   "execution_count": 15,
   "metadata": {},
   "outputs": [
    {
     "name": "stdout",
     "output_type": "stream",
     "text": [
      "['id', 'title', 'url', 'num_points', 'num_comments', 'author', 'created_at']\n",
      "\n",
      "\n",
      "['12224879', 'Interactive Dynamic Video', 'http://www.interactivedynamicvideo.com/', '386', '52', 'ne0phyte', '8/4/2016 11:52']\n",
      "\n",
      "\n",
      "['10975351', 'How to Use Open Source and Shut the Fuck Up at the Same Time', 'http://hueniverse.com/2016/01/26/how-to-use-open-source-and-shut-the-fuck-up-at-the-same-time/', '39', '10', 'josep2', '1/26/2016 19:30']\n",
      "\n",
      "\n",
      "['11964716', \"Florida DJs May Face Felony for April Fools' Water Joke\", 'http://www.thewire.com/entertainment/2013/04/florida-djs-april-fools-water-joke/63798/', '2', '1', 'vezycash', '6/23/2016 22:20']\n",
      "\n",
      "\n",
      "['11919867', 'Technology ventures: From Idea to Enterprise', 'https://www.amazon.com/Technology-Ventures-Enterprise-Thomas-Byers/dp/0073523429', '3', '1', 'hswarna', '6/17/2016 0:01']\n",
      "\n",
      "\n",
      "['10301696', 'Note by Note: The Making of Steinway L1037 (2007)', 'http://www.nytimes.com/2007/11/07/movies/07stein.html?_r=0', '8', '2', 'walterbell', '9/30/2015 4:12']\n",
      "\n",
      "\n",
      "Number of rows: 20100\n",
      "Number of columns: 7\n",
      "None\n"
     ]
    }
   ],
   "source": [
    "#Now lets explore the hn dataset.\n",
    "print(hn_header)\n",
    "print('\\n')\n",
    "print(explore_data(hn,0,5,True))# will print first 5 rows"
   ]
  },
  {
   "cell_type": "markdown",
   "metadata": {},
   "source": [
    "So there are total of 20100 rows and 7 columns in the dataset.\n",
    "Below is the decribtion of the columns.\n",
    "\n",
    "- id: The unique identifier from Hacker News for the post\n",
    "- title: The title of the post\n",
    "- url: The URL that the posts links to, if it the post has a URL\n",
    "- num_points: The number of points the post acquired, calculated as the total number of upvotes minus the total number of downvotes\n",
    "- num_comments: The number of comments that were made on the post\n",
    "- author: The username of the person who submitted the post\n",
    "- created_at: The date and time at which the post was submitted"
   ]
  },
  {
   "cell_type": "markdown",
   "metadata": {},
   "source": [
    "## Filter the data\n",
    "Next step is to filter our data.Since we're only concerned with post titles beginning with 'Ask HN 'or 'Show HN', we'll create new lists of lists containing just the data for those titles."
   ]
  },
  {
   "cell_type": "markdown",
   "metadata": {},
   "source": [
    "For this,we are first going to do the following steps.\n",
    "- Create three empty lists called ask_posts, show_posts, and other_posts.\n",
    "- Loop through each row in hn.\n",
    "- Assign the title in each row to a variable named title.\n",
    "Because the title column is the second column, you'll need to get the element at index 1 in each row.\n",
    "- Implement the following steps:\n",
    "  1. If the lowercase version of title starts with ask hn, append the row to ask_posts.\n",
    "  2. Else if the lowercase version of title starts with show hn, append the row to show_posts.\n",
    "  3. Else append to other_posts.\n",
    "- Check the number of posts in ask_posts, show_posts, and other_posts.\n"
   ]
  },
  {
   "cell_type": "code",
   "execution_count": 16,
   "metadata": {},
   "outputs": [
    {
     "name": "stdout",
     "output_type": "stream",
     "text": [
      "There are 1744 posts starting with Ask Hn\n",
      "There are 1162 posts starting with Show Hn\n",
      "There are 17194 other posts \n"
     ]
    }
   ],
   "source": [
    "ask_posts =[]\n",
    "show_posts =[]\n",
    "other_posts =[]\n",
    "\n",
    "for row in hn:\n",
    "    title = row[1]\n",
    "    if title.lower().startswith('ask hn'):\n",
    "        ask_posts.append(row)\n",
    "    elif title.lower().startswith('show hn'):\n",
    "        show_posts.append(row)\n",
    "    else :\n",
    "        other_posts.append(row)\n",
    "print(\"There are {num} posts starting with Ask Hn\".format(num=len(ask_posts)))\n",
    "print(\"There are {num} posts starting with Show Hn\".format(num=len(show_posts)))\n",
    "print(\"There are {num} other posts \".format(num=len(other_posts)))\n",
    "\n"
   ]
  },
  {
   "cell_type": "markdown",
   "metadata": {},
   "source": [
    "Now we can check the first five rows of ask_posts and show_posts.For that we can call the explore_data() function"
   ]
  },
  {
   "cell_type": "code",
   "execution_count": 17,
   "metadata": {},
   "outputs": [
    {
     "name": "stdout",
     "output_type": "stream",
     "text": [
      "The first 5 rows of ask_posts:\n",
      "\n",
      "\n",
      "['12296411', 'Ask HN: How to improve my personal website?', '', '2', '6', 'ahmedbaracat', '8/16/2016 9:55']\n",
      "\n",
      "\n",
      "['10610020', 'Ask HN: Am I the only one outraged by Twitter shutting down share counts?', '', '28', '29', 'tkfx', '11/22/2015 13:43']\n",
      "\n",
      "\n",
      "['11610310', 'Ask HN: Aby recent changes to CSS that broke mobile?', '', '1', '1', 'polskibus', '5/2/2016 10:14']\n",
      "\n",
      "\n",
      "['12210105', 'Ask HN: Looking for Employee #3 How do I do it?', '', '1', '3', 'sph130', '8/2/2016 14:20']\n",
      "\n",
      "\n",
      "['10394168', 'Ask HN: Someone offered to buy my browser extension from me. What now?', '', '28', '17', 'roykolak', '10/15/2015 16:38']\n",
      "\n",
      "\n",
      "Number of rows: 1744\n",
      "Number of columns: 7\n",
      "None\n",
      "\n",
      "\n",
      "The first 5 rows of show_posts:\n",
      "\n",
      "\n",
      "['10627194', 'Show HN: Wio Link  ESP8266 Based Web of Things Hardware Development Platform', 'https://iot.seeed.cc', '26', '22', 'kfihihc', '11/25/2015 14:03']\n",
      "\n",
      "\n",
      "['10646440', 'Show HN: Something pointless I made', 'http://dn.ht/picklecat/', '747', '102', 'dhotson', '11/29/2015 22:46']\n",
      "\n",
      "\n",
      "['11590768', 'Show HN: Shanhu.io, a programming playground powered by e8vm', 'https://shanhu.io', '1', '1', 'h8liu', '4/28/2016 18:05']\n",
      "\n",
      "\n",
      "['12178806', 'Show HN: Webscope  Easy way for web developers to communicate with Clients', 'http://webscopeapp.com', '3', '3', 'fastbrick', '7/28/2016 7:11']\n",
      "\n",
      "\n",
      "['10872799', 'Show HN: GeoScreenshot  Easily test Geo-IP based web pages', 'https://www.geoscreenshot.com/', '1', '9', 'kpsychwave', '1/9/2016 20:45']\n",
      "\n",
      "\n",
      "Number of rows: 1162\n",
      "Number of columns: 7\n",
      "None\n"
     ]
    }
   ],
   "source": [
    "#first 5 rows of ask_posts\n",
    "print(\"The first 5 rows of ask_posts:\")\n",
    "print('\\n')\n",
    "print(explore_data(ask_posts,0,5,True))\n",
    "print('\\n')\n",
    "#first 5 rows of show_posts:\n",
    "print(\"The first 5 rows of show_posts:\")\n",
    "print('\\n')\n",
    "print(explore_data(show_posts,0,5,True))"
   ]
  },
  {
   "cell_type": "markdown",
   "metadata": {},
   "source": [
    "Next, let's determine if ask posts or show posts receive more comments on average."
   ]
  },
  {
   "cell_type": "markdown",
   "metadata": {},
   "source": [
    "# Part 1: Find if ask posts or show post receive more comments on average.\n",
    "\n",
    "## Step 1: Average of ask post comments\n",
    "    For doing this,we have to do the following :\n",
    "    1. Find the total number of comments in ask posts \n",
    "    2.Find the average number of comments on ask posts"
   ]
  },
  {
   "cell_type": "code",
   "execution_count": 20,
   "metadata": {},
   "outputs": [
    {
     "name": "stdout",
     "output_type": "stream",
     "text": [
      "The average number of comments on ask post is 14.04\n"
     ]
    }
   ],
   "source": [
    "#find the total number of comments in ask posts.\n",
    "total_ask_comments =0\n",
    "for row in ask_posts:\n",
    "    num_comments = int(row[4])\n",
    "    total_ask_comments+=num_comments\n",
    "#Avg number of comments\n",
    "avg_ask_comments = total_ask_comments/len(ask_posts)\n",
    "print(\"The average number of comments on ask post is {average:.2f}\".format(average=avg_ask_comments))\n",
    "    "
   ]
  },
  {
   "cell_type": "markdown",
   "metadata": {},
   "source": [
    "## step 2: Find the average of number of comments in show post\n",
    "For this ,we are doing the following :\n",
    "1. Find the total number of comments in show post\n",
    "2. Find the average of number of comments on show post"
   ]
  },
  {
   "cell_type": "code",
   "execution_count": 19,
   "metadata": {},
   "outputs": [
    {
     "name": "stdout",
     "output_type": "stream",
     "text": [
      "The average number of comments on show post is 10.32\n"
     ]
    }
   ],
   "source": [
    "#find the total number of comments in show posts.\n",
    "total_show_comments =0\n",
    "for row in show_posts:\n",
    "    num_comments = int(row[4])\n",
    "    total_show_comments+=num_comments\n",
    "#Avg number of comments on show posts\n",
    "avg_show_comments = total_show_comments/len(show_posts)\n",
    "print(\"The average number of comments on show post is {average:.2f}\".format(average=avg_show_comments))\n",
    "    "
   ]
  },
  {
   "cell_type": "markdown",
   "metadata": {},
   "source": [
    "From above findings,we can see that the average number of comments on ask posts and show post are 14.04 and 10.32 respectively.\n",
    "So it is clear that the ask post receive more comments on average than the show post"
   ]
  },
  {
   "cell_type": "markdown",
   "metadata": {},
   "source": [
    "# Part 2: Do posts created at a certain time receive more comments on average?\n",
    "\n",
    "\n",
    "Since ask posts are more likely to receive comments, we'll focus our remaining analysis just on these posts.\n",
    "\n",
    "For performing this analysis,the following steps are to be done.\n",
    "1. Calculate the amount of ask posts created in each hour of the day, along with the number of comments received.\n",
    "2. Calculate the average number of comments ask posts receive by hour created."
   ]
  },
  {
   "cell_type": "markdown",
   "metadata": {},
   "source": [
    "## Step1: calculating the amount of ask posts and comments by hour created. \n",
    "    We will make  use  of the datetime module to work with the data in the created_at column."
   ]
  },
  {
   "cell_type": "markdown",
   "metadata": {},
   "source": [
    "In this step,we are going to calculate the amount of ask posts created per hour, along with the total amount of comments.\n",
    "\n",
    "For this the following steps are done.\n",
    "- Import the datetime module as dt.\n",
    "- Create an empty list and assign it to 'result_list'. This will be a list of lists.\n",
    "- Iterate over ask_posts and append to result_list a list with two elements:\n",
    "   1. The first element shall be the column created_at.\n",
    "   2. The second element shall be the number of comments of the post.(convert to int)\n",
    "   The result_list should look like this:\n",
    "   result_list = [[created_at,num_of_comments],....]\n",
    "\n",
    "- Create two empty dictionaries called counts_by_hour and comments_by_hour.\n",
    "- Loop through each row of result_list.\n",
    "- Extract the hour from the date, which is the first element of the row.\n",
    "- Use the datetime.strptime() method to parse the date and create a datetime object.\n",
    "- Use the string we want to parse as the first argument and a string that specifies the format as the second argument.\n",
    "    1. Use the datetime.strftime() method to select just the hour from the datetime object.\n",
    "    2. If the hour isn't a key in counts_by_hour:\n",
    "       - Create the key in counts_by_hour and set it equal to 1.\n",
    "       - Create the key in comments_by_hour and set it equal to the comment number.\n",
    "    3. If the hour is already a key in counts_by_hour:\n",
    "       - Increment the value in counts_by_hour by 1.\n",
    "       - Increment the value in comments_by_hour by the comment number.   \n",
    "   \n",
    "   "
   ]
  },
  {
   "cell_type": "code",
   "execution_count": 50,
   "metadata": {},
   "outputs": [
    {
     "name": "stdout",
     "output_type": "stream",
     "text": [
      "The first 3 rows of result_list:\n",
      "\n",
      "\n",
      "['8/16/2016 9:55', 6]\n"
     ]
    }
   ],
   "source": [
    "import datetime as dt\n",
    "result_list = []\n",
    "for row in ask_posts:\n",
    "    created_at = row[6]\n",
    "    num_of_comments = int(row[4])\n",
    "    result_list.append([created_at,num_of_comments])\n",
    "print(\"The first 3 rows of result_list:\")\n",
    "print('\\n')\n",
    "print(result_list[0])#prints first rows in the result_list\n"
   ]
  },
  {
   "cell_type": "markdown",
   "metadata": {},
   "source": [
    "From the above output we can see that,the result_list is a list of lists and the first element is 'created_at' and second element is num_of comments."
   ]
  },
  {
   "cell_type": "code",
   "execution_count": 38,
   "metadata": {
    "scrolled": true
   },
   "outputs": [
    {
     "name": "stdout",
     "output_type": "stream",
     "text": [
      "The amount of ask post created by hour:\n",
      "\n",
      "\n",
      "{'09': 45, '13': 85, '10': 59, '14': 107, '16': 108, '23': 68, '12': 73, '17': 100, '15': 116, '21': 109, '20': 80, '02': 58, '18': 109, '03': 54, '05': 46, '19': 110, '01': 60, '22': 71, '08': 48, '04': 47, '00': 55, '06': 44, '07': 34, '11': 58}\n",
      "\n",
      "\n",
      "The total number of comments created by hour:\n",
      "\n",
      "\n",
      "{'09': 251, '13': 1253, '10': 793, '14': 1416, '16': 1814, '23': 543, '12': 687, '17': 1146, '15': 4477, '21': 1745, '20': 1722, '02': 1381, '18': 1439, '03': 421, '05': 464, '19': 1188, '01': 683, '22': 479, '08': 492, '04': 337, '00': 447, '06': 397, '07': 267, '11': 641}\n"
     ]
    }
   ],
   "source": [
    "#create two empty dictionary\n",
    "counts_by_hour ={}\n",
    "comments_by_hour ={}\n",
    "for row in result_list:\n",
    "    create_date = row[0]\n",
    "    num_of_comments = row[1]\n",
    "    create_date = dt.datetime.strptime(create_date,\"%m/%d/%Y %H:%M\")#to parse and create a datetime object\n",
    "    created_time = dt.datetime.strftime(create_date,\"%H\")#to select just the hour from the datetime object.\n",
    "    if created_time not in counts_by_hour:\n",
    "        counts_by_hour[created_time]=1\n",
    "        comments_by_hour[created_time]=num_of_comments\n",
    "    else:\n",
    "        counts_by_hour[created_time]+=1\n",
    "        comments_by_hour[created_time]+=num_of_comments\n",
    "        \n",
    "print(\"The amount of ask post created by hour:\")\n",
    "print('\\n')\n",
    "print(counts_by_hour)\n",
    "print('\\n')\n",
    "print(\"The total number of comments created by hour:\")\n",
    "print('\\n')\n",
    "print(comments_by_hour)\n",
    "        \n",
    "        "
   ]
  },
  {
   "cell_type": "markdown",
   "metadata": {},
   "source": [
    "From Above,we can find the total number of posts created by hour and total number of comments created by hour.\n",
    "For instance,the total number of posts created between 8.59am and 10am is 45.the total number of comments for the same is 90."
   ]
  },
  {
   "cell_type": "markdown",
   "metadata": {},
   "source": [
    "## Step 2:Calculate the average number of comments ask posts receive by hour created.\n",
    "In this step we are going to  calculate the average number of comments per post for posts created during each hour of the day.The result should be a list of lists in which the first element is the hour and the second element is the average number of comments per post. "
   ]
  },
  {
   "cell_type": "code",
   "execution_count": 49,
   "metadata": {},
   "outputs": [
    {
     "name": "stdout",
     "output_type": "stream",
     "text": [
      "[['09', 5.5777777777777775], ['13', 14.741176470588234], ['10', 13.440677966101696], ['14', 13.233644859813085], ['16', 16.796296296296298], ['23', 7.985294117647059], ['12', 9.41095890410959], ['17', 11.46], ['15', 38.5948275862069], ['21', 16.009174311926607], ['20', 21.525], ['02', 23.810344827586206], ['18', 13.20183486238532], ['03', 7.796296296296297], ['05', 10.08695652173913], ['19', 10.8], ['01', 11.383333333333333], ['22', 6.746478873239437], ['08', 10.25], ['04', 7.170212765957447], ['00', 8.127272727272727], ['06', 9.022727272727273], ['07', 7.852941176470588], ['11', 11.051724137931034]]\n"
     ]
    }
   ],
   "source": [
    "avg_by_hour =[]\n",
    "hour_list=counts_by_hour.keys()\n",
    "for hour in hour_list:\n",
    "    #total_post=counts_by_hour[hour]\n",
    "    #total_comments = comments_by_hour[hour]\n",
    "    avg_comments = comments_by_hour[hour]/counts_by_hour[hour]\n",
    "    avg_by_hour.append([hour,avg_comments])\n",
    "    \n",
    "print(avg_by_hour)\n",
    "    \n",
    "    \n",
    "    "
   ]
  },
  {
   "cell_type": "markdown",
   "metadata": {},
   "source": [
    "The format of the above result makes it hard to identify the hours with the highest values. Let's finish by sorting the list of lists and printing the five highest values in a format that's easier to read."
   ]
  },
  {
   "cell_type": "markdown",
   "metadata": {},
   "source": [
    "For this we have create a list that equals avg_by_hour with swapped columns."
   ]
  },
  {
   "cell_type": "code",
   "execution_count": 52,
   "metadata": {},
   "outputs": [
    {
     "name": "stdout",
     "output_type": "stream",
     "text": [
      "The swapped avg_by_hour is:\n",
      "\n",
      "\n",
      "[[5.5777777777777775, '09'], [14.741176470588234, '13'], [13.440677966101696, '10'], [13.233644859813085, '14'], [16.796296296296298, '16'], [7.985294117647059, '23'], [9.41095890410959, '12'], [11.46, '17'], [38.5948275862069, '15'], [16.009174311926607, '21'], [21.525, '20'], [23.810344827586206, '02'], [13.20183486238532, '18'], [7.796296296296297, '03'], [10.08695652173913, '05'], [10.8, '19'], [11.383333333333333, '01'], [6.746478873239437, '22'], [10.25, '08'], [7.170212765957447, '04'], [8.127272727272727, '00'], [9.022727272727273, '06'], [7.852941176470588, '07'], [11.051724137931034, '11']]\n"
     ]
    }
   ],
   "source": [
    "#create an empty list swap_avg_by_hour\n",
    "swap_avg_by_hour = []\n",
    "for row in avg_by_hour:\n",
    "    #swap elements of the row.ie first element will be second\n",
    "    #and second element will be first.This makes it easier to sort\n",
    "    swap_avg_by_hour.append([row[1],row[0]])\n",
    "print(\"The swapped avg_by_hour is:\")\n",
    "print('\\n')\n",
    "print(swap_avg_by_hour)\n"
   ]
  },
  {
   "cell_type": "markdown",
   "metadata": {},
   "source": [
    "We need the results sorted in desc order so that we can find the first 5 highest average of comments by hour.For this we can use the sorted() on the swap_avg_by_hour.At this point we can do that since the first element of row in swap_avg_by_hour is the average of the comments by hour"
   ]
  },
  {
   "cell_type": "code",
   "execution_count": 59,
   "metadata": {},
   "outputs": [
    {
     "name": "stdout",
     "output_type": "stream",
     "text": [
      "Top 5 Hours for Ask posts Comments\n",
      "\n",
      "\n",
      "15:00: 38.59 average comments per post\n",
      "02:00: 23.81 average comments per post\n",
      "20:00: 21.52 average comments per post\n",
      "16:00: 16.80 average comments per post\n",
      "21:00: 16.01 average comments per post\n"
     ]
    }
   ],
   "source": [
    "sorted_swap=sorted(swap_avg_by_hour,reverse=True )\n",
    "\n",
    "print(\"Top 5 Hours for Ask posts Comments\")\n",
    "print('\\n')\n",
    "for row in sorted_swap[0:5]:\n",
    "    time_dt = dt.datetime.strptime(row[1],\"%H\")\n",
    "    time = dt.datetime.strftime(time_dt,\"%H:%M\")\n",
    "    print(\"{t}: {avg:.2f} average comments per post\".format(t=time,avg=row[0]))"
   ]
  },
  {
   "cell_type": "markdown",
   "metadata": {},
   "source": [
    "From analyzing the above  results we can come to a conclusion that the ask posts created during 15:00 ie(between 3pm and 4pm) are more likely to get the most comments ie,38.59 average comments per post.\n",
    "Also the posts created during 02:00am has the 2nd highest\n",
    "average comments which is about 23.81.The post created during 8pm,4pm and 9pm are also more likely to get more comments and the average of comments received are 21.52,16.80,16.01 respectively."
   ]
  },
  {
   "cell_type": "code",
   "execution_count": null,
   "metadata": {},
   "outputs": [],
   "source": []
  }
 ],
 "metadata": {
  "kernelspec": {
   "display_name": "Python 3",
   "language": "python",
   "name": "python3"
  },
  "language_info": {
   "codemirror_mode": {
    "name": "ipython",
    "version": 3
   },
   "file_extension": ".py",
   "mimetype": "text/x-python",
   "name": "python",
   "nbconvert_exporter": "python",
   "pygments_lexer": "ipython3",
   "version": "3.7.6"
  }
 },
 "nbformat": 4,
 "nbformat_minor": 2
}
